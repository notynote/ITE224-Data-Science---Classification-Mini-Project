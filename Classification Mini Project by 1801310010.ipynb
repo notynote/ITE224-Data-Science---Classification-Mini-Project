{
 "cells": [
  {
   "cell_type": "markdown",
   "metadata": {},
   "source": [
    "# Which genre of game is the most popular worldwide?\n",
    "\n",
    "### Classification Mini Project for ITE224 - Introduction to Data Science\n",
    "\n",
    "### by Pathompong Phongsaporamut (1801310010)\n",
    "\n",
    "### Dataset:  Video Game Sales by GregorySmith\n",
    "### https://www.kaggle.com/gregorut/videogamesales/"
   ]
  },
  {
   "cell_type": "code",
   "execution_count": null,
   "metadata": {},
   "outputs": [],
   "source": []
  }
 ],
 "metadata": {
  "kernelspec": {
   "display_name": "Python 3",
   "language": "python",
   "name": "python3"
  },
  "language_info": {
   "codemirror_mode": {
    "name": "ipython",
    "version": 3
   },
   "file_extension": ".py",
   "mimetype": "text/x-python",
   "name": "python",
   "nbconvert_exporter": "python",
   "pygments_lexer": "ipython3",
   "version": "3.7.3"
  }
 },
 "nbformat": 4,
 "nbformat_minor": 2
}
